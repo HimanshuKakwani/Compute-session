{
 "cells": [
  {
   "cell_type": "code",
   "execution_count": 31,
   "metadata": {},
   "outputs": [],
   "source": [
    "import numpy as np\n",
    "import pandas as pd\n",
    "import seaborn as sns\n",
    "import matplotlib.pyplot as plt\n",
    "%matplotlib inline"
   ]
  },
  {
   "cell_type": "code",
   "execution_count": 3,
   "metadata": {},
   "outputs": [
    {
     "data": {
      "text/html": [
       "<div>\n",
       "<style scoped>\n",
       "    .dataframe tbody tr th:only-of-type {\n",
       "        vertical-align: middle;\n",
       "    }\n",
       "\n",
       "    .dataframe tbody tr th {\n",
       "        vertical-align: top;\n",
       "    }\n",
       "\n",
       "    .dataframe thead th {\n",
       "        text-align: right;\n",
       "    }\n",
       "</style>\n",
       "<table border=\"1\" class=\"dataframe\">\n",
       "  <thead>\n",
       "    <tr style=\"text-align: right;\">\n",
       "      <th></th>\n",
       "      <th>Employee Count</th>\n",
       "      <th>Employee ID</th>\n",
       "      <th>Department</th>\n",
       "      <th>Job Role</th>\n",
       "      <th>Gender</th>\n",
       "      <th>Age</th>\n",
       "      <th>Marital Status</th>\n",
       "      <th>Education</th>\n",
       "      <th>Education Field</th>\n",
       "      <th>Business Travel</th>\n",
       "      <th>...</th>\n",
       "      <th>Total Working Years</th>\n",
       "      <th>Years At Company</th>\n",
       "      <th>Years In Current Role</th>\n",
       "      <th>Years Since Last Promotion</th>\n",
       "      <th>Years With Curr Manager</th>\n",
       "      <th>Environment Satisfaction</th>\n",
       "      <th>Training Times Last Year</th>\n",
       "      <th>Work Life Balance</th>\n",
       "      <th>Relationship Satisfaction</th>\n",
       "      <th>Attrition (Yes/No)</th>\n",
       "    </tr>\n",
       "  </thead>\n",
       "  <tbody>\n",
       "    <tr>\n",
       "      <th>0</th>\n",
       "      <td>1</td>\n",
       "      <td>1</td>\n",
       "      <td>Sales</td>\n",
       "      <td>Sales Executive</td>\n",
       "      <td>Female</td>\n",
       "      <td>41</td>\n",
       "      <td>Single</td>\n",
       "      <td>College</td>\n",
       "      <td>Life Sciences</td>\n",
       "      <td>Travel_Rarely</td>\n",
       "      <td>...</td>\n",
       "      <td>8</td>\n",
       "      <td>6</td>\n",
       "      <td>4</td>\n",
       "      <td>0</td>\n",
       "      <td>5</td>\n",
       "      <td>Medium</td>\n",
       "      <td>0</td>\n",
       "      <td>Bad</td>\n",
       "      <td>Low</td>\n",
       "      <td>Yes</td>\n",
       "    </tr>\n",
       "    <tr>\n",
       "      <th>1</th>\n",
       "      <td>1</td>\n",
       "      <td>2</td>\n",
       "      <td>Research &amp; Development</td>\n",
       "      <td>Research Scientist</td>\n",
       "      <td>Male</td>\n",
       "      <td>49</td>\n",
       "      <td>Married</td>\n",
       "      <td>Below College</td>\n",
       "      <td>Life Sciences</td>\n",
       "      <td>Travel_Frequently</td>\n",
       "      <td>...</td>\n",
       "      <td>10</td>\n",
       "      <td>10</td>\n",
       "      <td>7</td>\n",
       "      <td>1</td>\n",
       "      <td>7</td>\n",
       "      <td>High</td>\n",
       "      <td>3</td>\n",
       "      <td>Better</td>\n",
       "      <td>Very High</td>\n",
       "      <td>No</td>\n",
       "    </tr>\n",
       "    <tr>\n",
       "      <th>2</th>\n",
       "      <td>1</td>\n",
       "      <td>4</td>\n",
       "      <td>Research &amp; Development</td>\n",
       "      <td>Laboratory Technician</td>\n",
       "      <td>Male</td>\n",
       "      <td>37</td>\n",
       "      <td>Single</td>\n",
       "      <td>College</td>\n",
       "      <td>Other</td>\n",
       "      <td>Travel_Rarely</td>\n",
       "      <td>...</td>\n",
       "      <td>7</td>\n",
       "      <td>0</td>\n",
       "      <td>0</td>\n",
       "      <td>0</td>\n",
       "      <td>0</td>\n",
       "      <td>Low</td>\n",
       "      <td>3</td>\n",
       "      <td>Bad</td>\n",
       "      <td>Medium</td>\n",
       "      <td>Yes</td>\n",
       "    </tr>\n",
       "    <tr>\n",
       "      <th>3</th>\n",
       "      <td>1</td>\n",
       "      <td>5</td>\n",
       "      <td>Research &amp; Development</td>\n",
       "      <td>Research Scientist</td>\n",
       "      <td>Female</td>\n",
       "      <td>33</td>\n",
       "      <td>Married</td>\n",
       "      <td>Master</td>\n",
       "      <td>Life Sciences</td>\n",
       "      <td>Travel_Frequently</td>\n",
       "      <td>...</td>\n",
       "      <td>8</td>\n",
       "      <td>8</td>\n",
       "      <td>7</td>\n",
       "      <td>3</td>\n",
       "      <td>0</td>\n",
       "      <td>Very High</td>\n",
       "      <td>3</td>\n",
       "      <td>Better</td>\n",
       "      <td>High</td>\n",
       "      <td>No</td>\n",
       "    </tr>\n",
       "    <tr>\n",
       "      <th>4</th>\n",
       "      <td>1</td>\n",
       "      <td>7</td>\n",
       "      <td>Research &amp; Development</td>\n",
       "      <td>Laboratory Technician</td>\n",
       "      <td>Male</td>\n",
       "      <td>27</td>\n",
       "      <td>Married</td>\n",
       "      <td>Below College</td>\n",
       "      <td>Medical</td>\n",
       "      <td>Travel_Rarely</td>\n",
       "      <td>...</td>\n",
       "      <td>6</td>\n",
       "      <td>2</td>\n",
       "      <td>2</td>\n",
       "      <td>2</td>\n",
       "      <td>2</td>\n",
       "      <td>Low</td>\n",
       "      <td>3</td>\n",
       "      <td>Better</td>\n",
       "      <td>Very High</td>\n",
       "      <td>No</td>\n",
       "    </tr>\n",
       "  </tbody>\n",
       "</table>\n",
       "<p>5 rows × 29 columns</p>\n",
       "</div>"
      ],
      "text/plain": [
       "   Employee Count  Employee ID              Department               Job Role  \\\n",
       "0               1            1                   Sales        Sales Executive   \n",
       "1               1            2  Research & Development     Research Scientist   \n",
       "2               1            4  Research & Development  Laboratory Technician   \n",
       "3               1            5  Research & Development     Research Scientist   \n",
       "4               1            7  Research & Development  Laboratory Technician   \n",
       "\n",
       "   Gender  Age Marital Status      Education Education Field  \\\n",
       "0  Female   41         Single        College   Life Sciences   \n",
       "1    Male   49        Married  Below College   Life Sciences   \n",
       "2    Male   37         Single        College           Other   \n",
       "3  Female   33        Married         Master   Life Sciences   \n",
       "4    Male   27        Married  Below College         Medical   \n",
       "\n",
       "     Business Travel  ...  Total Working Years Years At Company  \\\n",
       "0      Travel_Rarely  ...                    8                6   \n",
       "1  Travel_Frequently  ...                   10               10   \n",
       "2      Travel_Rarely  ...                    7                0   \n",
       "3  Travel_Frequently  ...                    8                8   \n",
       "4      Travel_Rarely  ...                    6                2   \n",
       "\n",
       "   Years In Current Role Years Since Last Promotion  Years With Curr Manager  \\\n",
       "0                      4                          0                        5   \n",
       "1                      7                          1                        7   \n",
       "2                      0                          0                        0   \n",
       "3                      7                          3                        0   \n",
       "4                      2                          2                        2   \n",
       "\n",
       "   Environment Satisfaction  Training Times Last Year Work Life Balance  \\\n",
       "0                    Medium                         0               Bad   \n",
       "1                      High                         3            Better   \n",
       "2                       Low                         3               Bad   \n",
       "3                 Very High                         3            Better   \n",
       "4                       Low                         3            Better   \n",
       "\n",
       "   Relationship Satisfaction  Attrition (Yes/No)  \n",
       "0                        Low                 Yes  \n",
       "1                  Very High                  No  \n",
       "2                     Medium                 Yes  \n",
       "3                       High                  No  \n",
       "4                  Very High                  No  \n",
       "\n",
       "[5 rows x 29 columns]"
      ]
     },
     "execution_count": 3,
     "metadata": {},
     "output_type": "execute_result"
    }
   ],
   "source": [
    "df=pd.read_csv(r'C:\\Users\\JARVIS\\OneDrive\\Desktop\\Maam\\Employee-turnover (2).csv')\n",
    "df.head()"
   ]
  },
  {
   "cell_type": "code",
   "execution_count": 4,
   "metadata": {},
   "outputs": [
    {
     "name": "stdout",
     "output_type": "stream",
     "text": [
      "<class 'pandas.core.frame.DataFrame'>\n",
      "RangeIndex: 1470 entries, 0 to 1469\n",
      "Data columns (total 29 columns):\n",
      " #   Column                      Non-Null Count  Dtype \n",
      "---  ------                      --------------  ----- \n",
      " 0   Employee Count              1470 non-null   int64 \n",
      " 1   Employee ID                 1470 non-null   int64 \n",
      " 2   Department                  1470 non-null   object\n",
      " 3   Job Role                    1470 non-null   object\n",
      " 4   Gender                      1470 non-null   object\n",
      " 5   Age                         1470 non-null   int64 \n",
      " 6   Marital Status              1470 non-null   object\n",
      " 7   Education                   1470 non-null   object\n",
      " 8   Education Field             1470 non-null   object\n",
      " 9   Business Travel             1470 non-null   object\n",
      " 10  Distance From Home (kms)    1470 non-null   int64 \n",
      " 11  Job Involvement             1470 non-null   object\n",
      " 12  Job Level                   1470 non-null   int64 \n",
      " 13  Job Satisfaction            1470 non-null   object\n",
      " 14  Monthly Income (USD)        1470 non-null   int64 \n",
      " 15  Salary Hike (%)             1470 non-null   int64 \n",
      " 16  Stock Option Level          1470 non-null   int64 \n",
      " 17  Over Time                   1470 non-null   object\n",
      " 18  No. of Companies Worked     1470 non-null   int64 \n",
      " 19  Total Working Years         1470 non-null   int64 \n",
      " 20  Years At Company            1470 non-null   int64 \n",
      " 21  Years In Current Role       1470 non-null   int64 \n",
      " 22  Years Since Last Promotion  1470 non-null   int64 \n",
      " 23  Years With Curr Manager     1470 non-null   int64 \n",
      " 24  Environment Satisfaction    1470 non-null   object\n",
      " 25  Training Times Last Year    1470 non-null   int64 \n",
      " 26  Work Life Balance           1470 non-null   object\n",
      " 27  Relationship Satisfaction   1470 non-null   object\n",
      " 28  Attrition (Yes/No)          1470 non-null   object\n",
      "dtypes: int64(15), object(14)\n",
      "memory usage: 333.2+ KB\n"
     ]
    }
   ],
   "source": [
    "df.info()"
   ]
  },
  {
   "cell_type": "code",
   "execution_count": 5,
   "metadata": {},
   "outputs": [
    {
     "data": {
      "text/plain": [
       "Employee Count                0\n",
       "Employee ID                   0\n",
       "Department                    0\n",
       "Job Role                      0\n",
       "Gender                        0\n",
       "Age                           0\n",
       "Marital Status                0\n",
       "Education                     0\n",
       "Education Field               0\n",
       "Business Travel               0\n",
       "Distance From Home (kms)      0\n",
       "Job Involvement               0\n",
       "Job Level                     0\n",
       "Job Satisfaction              0\n",
       "Monthly Income (USD)          0\n",
       "Salary Hike (%)               0\n",
       "Stock Option Level            0\n",
       "Over Time                     0\n",
       "No. of Companies Worked       0\n",
       "Total Working Years           0\n",
       "Years At Company              0\n",
       "Years In Current Role         0\n",
       "Years Since Last Promotion    0\n",
       "Years With Curr Manager       0\n",
       "Environment Satisfaction      0\n",
       "Training Times Last Year      0\n",
       "Work Life Balance             0\n",
       "Relationship Satisfaction     0\n",
       "Attrition (Yes/No)            0\n",
       "dtype: int64"
      ]
     },
     "execution_count": 5,
     "metadata": {},
     "output_type": "execute_result"
    }
   ],
   "source": [
    "df.isnull().sum()"
   ]
  },
  {
   "cell_type": "code",
   "execution_count": 6,
   "metadata": {},
   "outputs": [],
   "source": [
    "df.rename(columns={'Attrition (Yes/No)':'Attrition'},inplace=True)"
   ]
  },
  {
   "cell_type": "code",
   "execution_count": 7,
   "metadata": {},
   "outputs": [
    {
     "name": "stderr",
     "output_type": "stream",
     "text": [
      "C:\\Users\\JARVIS\\AppData\\Local\\Temp\\ipykernel_3748\\3573788827.py:3: SettingWithCopyWarning: \n",
      "A value is trying to be set on a copy of a slice from a DataFrame\n",
      "\n",
      "See the caveats in the documentation: https://pandas.pydata.org/pandas-docs/stable/user_guide/indexing.html#returning-a-view-versus-a-copy\n",
      "  df['Attrition'][i]=1\n",
      "C:\\Users\\JARVIS\\AppData\\Local\\Temp\\ipykernel_3748\\3573788827.py:5: SettingWithCopyWarning: \n",
      "A value is trying to be set on a copy of a slice from a DataFrame\n",
      "\n",
      "See the caveats in the documentation: https://pandas.pydata.org/pandas-docs/stable/user_guide/indexing.html#returning-a-view-versus-a-copy\n",
      "  df['Attrition'][i]=0\n"
     ]
    },
    {
     "data": {
      "text/plain": [
       "0    1233\n",
       "1     237\n",
       "Name: Attrition, dtype: int64"
      ]
     },
     "execution_count": 7,
     "metadata": {},
     "output_type": "execute_result"
    }
   ],
   "source": [
    "for i in range(len(df)):\n",
    "    if(df['Attrition'][i]=='Yes'):\n",
    "        df['Attrition'][i]=1\n",
    "    else:\n",
    "        df['Attrition'][i]=0\n",
    "df.Attrition.value_counts()           "
   ]
  },
  {
   "cell_type": "code",
   "execution_count": 10,
   "metadata": {},
   "outputs": [],
   "source": [
    "df['Attrition']=df['Attrition'].astype('int')"
   ]
  },
  {
   "cell_type": "code",
   "execution_count": 14,
   "metadata": {},
   "outputs": [
    {
     "data": {
      "text/plain": [
       "Index(['Employee Count', 'Employee ID', 'Department', 'Job Role', 'Gender',\n",
       "       'Age', 'Marital Status', 'Education', 'Education Field',\n",
       "       'Business Travel', 'Distance From Home (kms)', 'Job Involvement',\n",
       "       'Job Level', 'Job Satisfaction', 'Monthly Income (USD)',\n",
       "       'Salary Hike (%)', 'Stock Option Level', 'Over Time',\n",
       "       'No. of Companies Worked', 'Total Working Years', 'Years At Company',\n",
       "       'Years In Current Role', 'Years Since Last Promotion',\n",
       "       'Years With Curr Manager', 'Environment Satisfaction',\n",
       "       'Training Times Last Year', 'Work Life Balance',\n",
       "       'Relationship Satisfaction', 'Attrition'],\n",
       "      dtype='object')"
      ]
     },
     "execution_count": 14,
     "metadata": {},
     "output_type": "execute_result"
    }
   ],
   "source": [
    "df.columns"
   ]
  },
  {
   "cell_type": "code",
   "execution_count": 15,
   "metadata": {},
   "outputs": [
    {
     "data": {
      "text/plain": [
       "Index(['Department', 'Job Role', 'Gender', 'Age', 'Marital Status',\n",
       "       'Education', 'Education Field', 'Business Travel',\n",
       "       'Distance From Home (kms)', 'Job Involvement', 'Job Level',\n",
       "       'Job Satisfaction', 'Monthly Income (USD)', 'Salary Hike (%)',\n",
       "       'Stock Option Level', 'Over Time', 'No. of Companies Worked',\n",
       "       'Total Working Years', 'Years At Company', 'Years In Current Role',\n",
       "       'Years Since Last Promotion', 'Years With Curr Manager',\n",
       "       'Environment Satisfaction', 'Training Times Last Year',\n",
       "       'Work Life Balance', 'Relationship Satisfaction', 'Attrition'],\n",
       "      dtype='object')"
      ]
     },
     "execution_count": 15,
     "metadata": {},
     "output_type": "execute_result"
    }
   ],
   "source": [
    "df.drop(labels=['Employee Count','Employee ID'],axis=1,inplace=True)\n",
    "df.columns"
   ]
  },
  {
   "cell_type": "code",
   "execution_count": 16,
   "metadata": {},
   "outputs": [
    {
     "data": {
      "text/html": [
       "<div>\n",
       "<style scoped>\n",
       "    .dataframe tbody tr th:only-of-type {\n",
       "        vertical-align: middle;\n",
       "    }\n",
       "\n",
       "    .dataframe tbody tr th {\n",
       "        vertical-align: top;\n",
       "    }\n",
       "\n",
       "    .dataframe thead th {\n",
       "        text-align: right;\n",
       "    }\n",
       "</style>\n",
       "<table border=\"1\" class=\"dataframe\">\n",
       "  <thead>\n",
       "    <tr style=\"text-align: right;\">\n",
       "      <th></th>\n",
       "      <th>Age</th>\n",
       "      <th>Distance From Home (kms)</th>\n",
       "      <th>Job Level</th>\n",
       "      <th>Monthly Income (USD)</th>\n",
       "      <th>Salary Hike (%)</th>\n",
       "      <th>Stock Option Level</th>\n",
       "      <th>No. of Companies Worked</th>\n",
       "      <th>Total Working Years</th>\n",
       "      <th>Years At Company</th>\n",
       "      <th>Years In Current Role</th>\n",
       "      <th>Years Since Last Promotion</th>\n",
       "      <th>Years With Curr Manager</th>\n",
       "      <th>Training Times Last Year</th>\n",
       "      <th>Attrition</th>\n",
       "    </tr>\n",
       "  </thead>\n",
       "  <tbody>\n",
       "    <tr>\n",
       "      <th>Age</th>\n",
       "      <td>1.000000</td>\n",
       "      <td>-0.001686</td>\n",
       "      <td>0.509604</td>\n",
       "      <td>0.497855</td>\n",
       "      <td>0.040287</td>\n",
       "      <td>0.037510</td>\n",
       "      <td>0.299358</td>\n",
       "      <td>0.680381</td>\n",
       "      <td>0.311309</td>\n",
       "      <td>0.212901</td>\n",
       "      <td>0.216513</td>\n",
       "      <td>0.202089</td>\n",
       "      <td>-0.019621</td>\n",
       "      <td>-0.159205</td>\n",
       "    </tr>\n",
       "    <tr>\n",
       "      <th>Distance From Home (kms)</th>\n",
       "      <td>-0.001686</td>\n",
       "      <td>1.000000</td>\n",
       "      <td>0.005303</td>\n",
       "      <td>-0.017014</td>\n",
       "      <td>0.015960</td>\n",
       "      <td>0.044872</td>\n",
       "      <td>-0.027640</td>\n",
       "      <td>0.004628</td>\n",
       "      <td>0.009508</td>\n",
       "      <td>0.018845</td>\n",
       "      <td>0.010029</td>\n",
       "      <td>0.014406</td>\n",
       "      <td>-0.036942</td>\n",
       "      <td>0.077924</td>\n",
       "    </tr>\n",
       "    <tr>\n",
       "      <th>Job Level</th>\n",
       "      <td>0.509604</td>\n",
       "      <td>0.005303</td>\n",
       "      <td>1.000000</td>\n",
       "      <td>0.950300</td>\n",
       "      <td>0.010361</td>\n",
       "      <td>0.013984</td>\n",
       "      <td>0.142812</td>\n",
       "      <td>0.782208</td>\n",
       "      <td>0.534739</td>\n",
       "      <td>0.389447</td>\n",
       "      <td>0.353885</td>\n",
       "      <td>0.375281</td>\n",
       "      <td>-0.018191</td>\n",
       "      <td>-0.169105</td>\n",
       "    </tr>\n",
       "    <tr>\n",
       "      <th>Monthly Income (USD)</th>\n",
       "      <td>0.497855</td>\n",
       "      <td>-0.017014</td>\n",
       "      <td>0.950300</td>\n",
       "      <td>1.000000</td>\n",
       "      <td>0.015050</td>\n",
       "      <td>0.005408</td>\n",
       "      <td>0.149919</td>\n",
       "      <td>0.772893</td>\n",
       "      <td>0.514285</td>\n",
       "      <td>0.363818</td>\n",
       "      <td>0.344978</td>\n",
       "      <td>0.344079</td>\n",
       "      <td>-0.021736</td>\n",
       "      <td>-0.159840</td>\n",
       "    </tr>\n",
       "    <tr>\n",
       "      <th>Salary Hike (%)</th>\n",
       "      <td>0.040287</td>\n",
       "      <td>0.015960</td>\n",
       "      <td>0.010361</td>\n",
       "      <td>0.015050</td>\n",
       "      <td>1.000000</td>\n",
       "      <td>0.041906</td>\n",
       "      <td>-0.000315</td>\n",
       "      <td>0.019554</td>\n",
       "      <td>-0.002812</td>\n",
       "      <td>0.031862</td>\n",
       "      <td>0.001454</td>\n",
       "      <td>0.016776</td>\n",
       "      <td>0.012065</td>\n",
       "      <td>-0.180424</td>\n",
       "    </tr>\n",
       "    <tr>\n",
       "      <th>Stock Option Level</th>\n",
       "      <td>0.037510</td>\n",
       "      <td>0.044872</td>\n",
       "      <td>0.013984</td>\n",
       "      <td>0.005408</td>\n",
       "      <td>0.041906</td>\n",
       "      <td>1.000000</td>\n",
       "      <td>0.031647</td>\n",
       "      <td>0.010136</td>\n",
       "      <td>0.015058</td>\n",
       "      <td>0.050818</td>\n",
       "      <td>0.014352</td>\n",
       "      <td>0.024698</td>\n",
       "      <td>0.011274</td>\n",
       "      <td>-0.137145</td>\n",
       "    </tr>\n",
       "    <tr>\n",
       "      <th>No. of Companies Worked</th>\n",
       "      <td>0.299358</td>\n",
       "      <td>-0.027640</td>\n",
       "      <td>0.142812</td>\n",
       "      <td>0.149919</td>\n",
       "      <td>-0.000315</td>\n",
       "      <td>0.031647</td>\n",
       "      <td>1.000000</td>\n",
       "      <td>0.238689</td>\n",
       "      <td>-0.118331</td>\n",
       "      <td>-0.090788</td>\n",
       "      <td>-0.035758</td>\n",
       "      <td>-0.110889</td>\n",
       "      <td>-0.062599</td>\n",
       "      <td>0.039826</td>\n",
       "    </tr>\n",
       "    <tr>\n",
       "      <th>Total Working Years</th>\n",
       "      <td>0.680381</td>\n",
       "      <td>0.004628</td>\n",
       "      <td>0.782208</td>\n",
       "      <td>0.772893</td>\n",
       "      <td>0.019554</td>\n",
       "      <td>0.010136</td>\n",
       "      <td>0.238689</td>\n",
       "      <td>1.000000</td>\n",
       "      <td>0.628133</td>\n",
       "      <td>0.460365</td>\n",
       "      <td>0.404858</td>\n",
       "      <td>0.459188</td>\n",
       "      <td>-0.035662</td>\n",
       "      <td>-0.171063</td>\n",
       "    </tr>\n",
       "    <tr>\n",
       "      <th>Years At Company</th>\n",
       "      <td>0.311309</td>\n",
       "      <td>0.009508</td>\n",
       "      <td>0.534739</td>\n",
       "      <td>0.514285</td>\n",
       "      <td>-0.002812</td>\n",
       "      <td>0.015058</td>\n",
       "      <td>-0.118331</td>\n",
       "      <td>0.628133</td>\n",
       "      <td>1.000000</td>\n",
       "      <td>0.758754</td>\n",
       "      <td>0.618409</td>\n",
       "      <td>0.769212</td>\n",
       "      <td>0.003569</td>\n",
       "      <td>-0.134392</td>\n",
       "    </tr>\n",
       "    <tr>\n",
       "      <th>Years In Current Role</th>\n",
       "      <td>0.212901</td>\n",
       "      <td>0.018845</td>\n",
       "      <td>0.389447</td>\n",
       "      <td>0.363818</td>\n",
       "      <td>0.031862</td>\n",
       "      <td>0.050818</td>\n",
       "      <td>-0.090788</td>\n",
       "      <td>0.460365</td>\n",
       "      <td>0.758754</td>\n",
       "      <td>1.000000</td>\n",
       "      <td>0.548056</td>\n",
       "      <td>0.714365</td>\n",
       "      <td>-0.005738</td>\n",
       "      <td>-0.160545</td>\n",
       "    </tr>\n",
       "    <tr>\n",
       "      <th>Years Since Last Promotion</th>\n",
       "      <td>0.216513</td>\n",
       "      <td>0.010029</td>\n",
       "      <td>0.353885</td>\n",
       "      <td>0.344978</td>\n",
       "      <td>0.001454</td>\n",
       "      <td>0.014352</td>\n",
       "      <td>-0.035758</td>\n",
       "      <td>0.404858</td>\n",
       "      <td>0.618409</td>\n",
       "      <td>0.548056</td>\n",
       "      <td>1.000000</td>\n",
       "      <td>0.510224</td>\n",
       "      <td>-0.002067</td>\n",
       "      <td>-0.033019</td>\n",
       "    </tr>\n",
       "    <tr>\n",
       "      <th>Years With Curr Manager</th>\n",
       "      <td>0.202089</td>\n",
       "      <td>0.014406</td>\n",
       "      <td>0.375281</td>\n",
       "      <td>0.344079</td>\n",
       "      <td>0.016776</td>\n",
       "      <td>0.024698</td>\n",
       "      <td>-0.110889</td>\n",
       "      <td>0.459188</td>\n",
       "      <td>0.769212</td>\n",
       "      <td>0.714365</td>\n",
       "      <td>0.510224</td>\n",
       "      <td>1.000000</td>\n",
       "      <td>-0.004096</td>\n",
       "      <td>-0.156199</td>\n",
       "    </tr>\n",
       "    <tr>\n",
       "      <th>Training Times Last Year</th>\n",
       "      <td>-0.019621</td>\n",
       "      <td>-0.036942</td>\n",
       "      <td>-0.018191</td>\n",
       "      <td>-0.021736</td>\n",
       "      <td>0.012065</td>\n",
       "      <td>0.011274</td>\n",
       "      <td>-0.062599</td>\n",
       "      <td>-0.035662</td>\n",
       "      <td>0.003569</td>\n",
       "      <td>-0.005738</td>\n",
       "      <td>-0.002067</td>\n",
       "      <td>-0.004096</td>\n",
       "      <td>1.000000</td>\n",
       "      <td>-0.059478</td>\n",
       "    </tr>\n",
       "    <tr>\n",
       "      <th>Attrition</th>\n",
       "      <td>-0.159205</td>\n",
       "      <td>0.077924</td>\n",
       "      <td>-0.169105</td>\n",
       "      <td>-0.159840</td>\n",
       "      <td>-0.180424</td>\n",
       "      <td>-0.137145</td>\n",
       "      <td>0.039826</td>\n",
       "      <td>-0.171063</td>\n",
       "      <td>-0.134392</td>\n",
       "      <td>-0.160545</td>\n",
       "      <td>-0.033019</td>\n",
       "      <td>-0.156199</td>\n",
       "      <td>-0.059478</td>\n",
       "      <td>1.000000</td>\n",
       "    </tr>\n",
       "  </tbody>\n",
       "</table>\n",
       "</div>"
      ],
      "text/plain": [
       "                                 Age  Distance From Home (kms)  Job Level  \\\n",
       "Age                         1.000000                 -0.001686   0.509604   \n",
       "Distance From Home (kms)   -0.001686                  1.000000   0.005303   \n",
       "Job Level                   0.509604                  0.005303   1.000000   \n",
       "Monthly Income (USD)        0.497855                 -0.017014   0.950300   \n",
       "Salary Hike (%)             0.040287                  0.015960   0.010361   \n",
       "Stock Option Level          0.037510                  0.044872   0.013984   \n",
       "No. of Companies Worked     0.299358                 -0.027640   0.142812   \n",
       "Total Working Years         0.680381                  0.004628   0.782208   \n",
       "Years At Company            0.311309                  0.009508   0.534739   \n",
       "Years In Current Role       0.212901                  0.018845   0.389447   \n",
       "Years Since Last Promotion  0.216513                  0.010029   0.353885   \n",
       "Years With Curr Manager     0.202089                  0.014406   0.375281   \n",
       "Training Times Last Year   -0.019621                 -0.036942  -0.018191   \n",
       "Attrition                  -0.159205                  0.077924  -0.169105   \n",
       "\n",
       "                            Monthly Income (USD)  Salary Hike (%)  \\\n",
       "Age                                     0.497855         0.040287   \n",
       "Distance From Home (kms)               -0.017014         0.015960   \n",
       "Job Level                               0.950300         0.010361   \n",
       "Monthly Income (USD)                    1.000000         0.015050   \n",
       "Salary Hike (%)                         0.015050         1.000000   \n",
       "Stock Option Level                      0.005408         0.041906   \n",
       "No. of Companies Worked                 0.149919        -0.000315   \n",
       "Total Working Years                     0.772893         0.019554   \n",
       "Years At Company                        0.514285        -0.002812   \n",
       "Years In Current Role                   0.363818         0.031862   \n",
       "Years Since Last Promotion              0.344978         0.001454   \n",
       "Years With Curr Manager                 0.344079         0.016776   \n",
       "Training Times Last Year               -0.021736         0.012065   \n",
       "Attrition                              -0.159840        -0.180424   \n",
       "\n",
       "                            Stock Option Level  No. of Companies Worked  \\\n",
       "Age                                   0.037510                 0.299358   \n",
       "Distance From Home (kms)              0.044872                -0.027640   \n",
       "Job Level                             0.013984                 0.142812   \n",
       "Monthly Income (USD)                  0.005408                 0.149919   \n",
       "Salary Hike (%)                       0.041906                -0.000315   \n",
       "Stock Option Level                    1.000000                 0.031647   \n",
       "No. of Companies Worked               0.031647                 1.000000   \n",
       "Total Working Years                   0.010136                 0.238689   \n",
       "Years At Company                      0.015058                -0.118331   \n",
       "Years In Current Role                 0.050818                -0.090788   \n",
       "Years Since Last Promotion            0.014352                -0.035758   \n",
       "Years With Curr Manager               0.024698                -0.110889   \n",
       "Training Times Last Year              0.011274                -0.062599   \n",
       "Attrition                            -0.137145                 0.039826   \n",
       "\n",
       "                            Total Working Years  Years At Company  \\\n",
       "Age                                    0.680381          0.311309   \n",
       "Distance From Home (kms)               0.004628          0.009508   \n",
       "Job Level                              0.782208          0.534739   \n",
       "Monthly Income (USD)                   0.772893          0.514285   \n",
       "Salary Hike (%)                        0.019554         -0.002812   \n",
       "Stock Option Level                     0.010136          0.015058   \n",
       "No. of Companies Worked                0.238689         -0.118331   \n",
       "Total Working Years                    1.000000          0.628133   \n",
       "Years At Company                       0.628133          1.000000   \n",
       "Years In Current Role                  0.460365          0.758754   \n",
       "Years Since Last Promotion             0.404858          0.618409   \n",
       "Years With Curr Manager                0.459188          0.769212   \n",
       "Training Times Last Year              -0.035662          0.003569   \n",
       "Attrition                             -0.171063         -0.134392   \n",
       "\n",
       "                            Years In Current Role  Years Since Last Promotion  \\\n",
       "Age                                      0.212901                    0.216513   \n",
       "Distance From Home (kms)                 0.018845                    0.010029   \n",
       "Job Level                                0.389447                    0.353885   \n",
       "Monthly Income (USD)                     0.363818                    0.344978   \n",
       "Salary Hike (%)                          0.031862                    0.001454   \n",
       "Stock Option Level                       0.050818                    0.014352   \n",
       "No. of Companies Worked                 -0.090788                   -0.035758   \n",
       "Total Working Years                      0.460365                    0.404858   \n",
       "Years At Company                         0.758754                    0.618409   \n",
       "Years In Current Role                    1.000000                    0.548056   \n",
       "Years Since Last Promotion               0.548056                    1.000000   \n",
       "Years With Curr Manager                  0.714365                    0.510224   \n",
       "Training Times Last Year                -0.005738                   -0.002067   \n",
       "Attrition                               -0.160545                   -0.033019   \n",
       "\n",
       "                            Years With Curr Manager  Training Times Last Year  \\\n",
       "Age                                        0.202089                 -0.019621   \n",
       "Distance From Home (kms)                   0.014406                 -0.036942   \n",
       "Job Level                                  0.375281                 -0.018191   \n",
       "Monthly Income (USD)                       0.344079                 -0.021736   \n",
       "Salary Hike (%)                            0.016776                  0.012065   \n",
       "Stock Option Level                         0.024698                  0.011274   \n",
       "No. of Companies Worked                   -0.110889                 -0.062599   \n",
       "Total Working Years                        0.459188                 -0.035662   \n",
       "Years At Company                           0.769212                  0.003569   \n",
       "Years In Current Role                      0.714365                 -0.005738   \n",
       "Years Since Last Promotion                 0.510224                 -0.002067   \n",
       "Years With Curr Manager                    1.000000                 -0.004096   \n",
       "Training Times Last Year                  -0.004096                  1.000000   \n",
       "Attrition                                 -0.156199                 -0.059478   \n",
       "\n",
       "                            Attrition  \n",
       "Age                         -0.159205  \n",
       "Distance From Home (kms)     0.077924  \n",
       "Job Level                   -0.169105  \n",
       "Monthly Income (USD)        -0.159840  \n",
       "Salary Hike (%)             -0.180424  \n",
       "Stock Option Level          -0.137145  \n",
       "No. of Companies Worked      0.039826  \n",
       "Total Working Years         -0.171063  \n",
       "Years At Company            -0.134392  \n",
       "Years In Current Role       -0.160545  \n",
       "Years Since Last Promotion  -0.033019  \n",
       "Years With Curr Manager     -0.156199  \n",
       "Training Times Last Year    -0.059478  \n",
       "Attrition                    1.000000  "
      ]
     },
     "execution_count": 16,
     "metadata": {},
     "output_type": "execute_result"
    }
   ],
   "source": [
    "corr=df.corr()\n",
    "corr"
   ]
  },
  {
   "cell_type": "code",
   "execution_count": 18,
   "metadata": {},
   "outputs": [
    {
     "data": {
      "text/plain": [
       "<AxesSubplot:>"
      ]
     },
     "execution_count": 18,
     "metadata": {},
     "output_type": "execute_result"
    },
    {
     "data": {
      "image/png": "[encoded data removed]",
      "text/plain": [
       "<Figure size 432x288 with 2 Axes>"
      ]
     },
     "metadata": {
      "needs_background": "light"
     },
     "output_type": "display_data"
    }
   ],
   "source": [
    "sns.heatmap(corr)"
   ]
  },
  {
   "cell_type": "code",
   "execution_count": 27,
   "metadata": {},
   "outputs": [
    {
     "data": {
      "text/plain": [
       "Research & Development    961\n",
       "Sales                     446\n",
       "Human Resources            63\n",
       "Name: Department, dtype: int64"
      ]
     },
     "execution_count": 27,
     "metadata": {},
     "output_type": "execute_result"
    }
   ],
   "source": [
    "df.Department.value_counts()"
   ]
  },
  {
   "cell_type": "code",
   "execution_count": 65,
   "metadata": {},
   "outputs": [
    {
     "data": {
      "image/png": "[encoded data removed]",
      "text/plain": [
       "<Figure size 432x288 with 1 Axes>"
      ]
     },
     "metadata": {
      "needs_background": "light"
     },
     "output_type": "display_data"
    }
   ],
   "source": [
    "plt.hist(df.Department)\n",
    "plt.xlabel(\"Types of hotel\")\n",
    "plt.ylabel(\"No of reservations\")\n",
    "plt.title(\"Hotel type vs Reservation\")\n",
    "plt.show()"
   ]
  },
  {
   "cell_type": "code",
   "execution_count": 26,
   "metadata": {},
   "outputs": [
    {
     "data": {
      "text/plain": [
       "<AxesSubplot:>"
      ]
     },
     "execution_count": 26,
     "metadata": {},
     "output_type": "execute_result"
    },
    {
     "data": {
      "image/png": "[encoded data removed]",
      "text/plain": [
       "<Figure size 432x288 with 1 Axes>"
      ]
     },
     "metadata": {
      "needs_background": "light"
     },
     "output_type": "display_data"
    }
   ],
   "source": [
    "df.Department.value_counts().plot.bar()"
   ]
  },
  {
   "cell_type": "code",
   "execution_count": 35,
   "metadata": {},
   "outputs": [
    {
     "data": {
      "text/plain": [
       "dtype('O')"
      ]
     },
     "execution_count": 35,
     "metadata": {},
     "output_type": "execute_result"
    }
   ],
   "source": [
    "df.Department.dtype"
   ]
  },
  {
   "cell_type": "code",
   "execution_count": 36,
   "metadata": {},
   "outputs": [
    {
     "name": "stdout",
     "output_type": "stream",
     "text": [
      "Object cols= ['Department', 'Job Role', 'Gender', 'Marital Status', 'Education', 'Education Field', 'Business Travel', 'Job Involvement', 'Job Satisfaction', 'Over Time', 'Environment Satisfaction', 'Work Life Balance', 'Relationship Satisfaction']\n",
      "Int col= ['Age', 'Distance From Home (kms)', 'Job Level', 'Monthly Income (USD)', 'Salary Hike (%)', 'Stock Option Level', 'No. of Companies Worked', 'Total Working Years', 'Years At Company', 'Years In Current Role', 'Years Since Last Promotion', 'Years With Curr Manager', 'Training Times Last Year', 'Attrition']\n"
     ]
    }
   ],
   "source": [
    "ob_col=[]\n",
    "int_col=[]\n",
    "for i in df:\n",
    "    if(df[i].dtype=='object'):\n",
    "        ob_col.append(i)\n",
    "    else:\n",
    "        int_col.append(i)\n",
    "print('Object cols=',ob_col)\n",
    "print('Int col=',int_col)            "
   ]
  },
  {
   "cell_type": "code",
   "execution_count": 40,
   "metadata": {},
   "outputs": [
    {
     "data": {
      "text/plain": [
       "<AxesSubplot:xlabel='Department', ylabel='count'>"
      ]
     },
     "execution_count": 40,
     "metadata": {},
     "output_type": "execute_result"
    },
    {
     "data": {
      "image/png": "[encoded data removed]",
      "text/plain": [
       "<Figure size 432x288 with 1 Axes>"
      ]
     },
     "metadata": {
      "needs_background": "light"
     },
     "output_type": "display_data"
    }
   ],
   "source": [
    "sns.countplot(x=df.Department)"
   ]
  },
  {
   "cell_type": "markdown",
   "metadata": {},
   "source": [
    "Q1) How does Department is affecting Attrition column"
   ]
  },
  {
   "cell_type": "code",
   "execution_count": 54,
   "metadata": {},
   "outputs": [
    {
     "data": {
      "text/html": [
       "<div>\n",
       "<style scoped>\n",
       "    .dataframe tbody tr th:only-of-type {\n",
       "        vertical-align: middle;\n",
       "    }\n",
       "\n",
       "    .dataframe tbody tr th {\n",
       "        vertical-align: top;\n",
       "    }\n",
       "\n",
       "    .dataframe thead th {\n",
       "        text-align: right;\n",
       "    }\n",
       "</style>\n",
       "<table border=\"1\" class=\"dataframe\">\n",
       "  <thead>\n",
       "    <tr style=\"text-align: right;\">\n",
       "      <th>Attrition</th>\n",
       "      <th>0</th>\n",
       "      <th>1</th>\n",
       "      <th>All</th>\n",
       "    </tr>\n",
       "    <tr>\n",
       "      <th>Department</th>\n",
       "      <th></th>\n",
       "      <th></th>\n",
       "      <th></th>\n",
       "    </tr>\n",
       "  </thead>\n",
       "  <tbody>\n",
       "    <tr>\n",
       "      <th>Human Resources</th>\n",
       "      <td>51</td>\n",
       "      <td>12</td>\n",
       "      <td>63</td>\n",
       "    </tr>\n",
       "    <tr>\n",
       "      <th>Research &amp; Development</th>\n",
       "      <td>828</td>\n",
       "      <td>133</td>\n",
       "      <td>961</td>\n",
       "    </tr>\n",
       "    <tr>\n",
       "      <th>Sales</th>\n",
       "      <td>354</td>\n",
       "      <td>92</td>\n",
       "      <td>446</td>\n",
       "    </tr>\n",
       "    <tr>\n",
       "      <th>All</th>\n",
       "      <td>1233</td>\n",
       "      <td>237</td>\n",
       "      <td>1470</td>\n",
       "    </tr>\n",
       "  </tbody>\n",
       "</table>\n",
       "</div>"
      ],
      "text/plain": [
       "Attrition                  0    1   All\n",
       "Department                             \n",
       "Human Resources           51   12    63\n",
       "Research & Development   828  133   961\n",
       "Sales                    354   92   446\n",
       "All                     1233  237  1470"
      ]
     },
     "execution_count": 54,
     "metadata": {},
     "output_type": "execute_result"
    }
   ],
   "source": [
    "pd.crosstab(df.Department,df.Attrition,margins=True)"
   ]
  },
  {
   "cell_type": "code",
   "execution_count": 41,
   "metadata": {},
   "outputs": [
    {
     "data": {
      "text/plain": [
       "<AxesSubplot:xlabel='Department', ylabel='count'>"
      ]
     },
     "execution_count": 41,
     "metadata": {},
     "output_type": "execute_result"
    },
    {
     "data": {
      "image/png": "[encoded data removed]",
      "text/plain": [
       "<Figure size 432x288 with 1 Axes>"
      ]
     },
     "metadata": {
      "needs_background": "light"
     },
     "output_type": "display_data"
    }
   ],
   "source": [
    "sns.countplot(x=df.Department,hue=df.Attrition)"
   ]
  },
  {
   "cell_type": "code",
   "execution_count": 78,
   "metadata": {},
   "outputs": [
    {
     "data": {
      "text/html": [
       "<div>\n",
       "<style scoped>\n",
       "    .dataframe tbody tr th:only-of-type {\n",
       "        vertical-align: middle;\n",
       "    }\n",
       "\n",
       "    .dataframe tbody tr th {\n",
       "        vertical-align: top;\n",
       "    }\n",
       "\n",
       "    .dataframe thead th {\n",
       "        text-align: right;\n",
       "    }\n",
       "</style>\n",
       "<table border=\"1\" class=\"dataframe\">\n",
       "  <thead>\n",
       "    <tr style=\"text-align: right;\">\n",
       "      <th></th>\n",
       "      <th>Attrition</th>\n",
       "    </tr>\n",
       "    <tr>\n",
       "      <th>Department</th>\n",
       "      <th></th>\n",
       "    </tr>\n",
       "  </thead>\n",
       "  <tbody>\n",
       "    <tr>\n",
       "      <th>Human Resources</th>\n",
       "      <td>0.190476</td>\n",
       "    </tr>\n",
       "    <tr>\n",
       "      <th>Research &amp; Development</th>\n",
       "      <td>0.138398</td>\n",
       "    </tr>\n",
       "    <tr>\n",
       "      <th>Sales</th>\n",
       "      <td>0.206278</td>\n",
       "    </tr>\n",
       "  </tbody>\n",
       "</table>\n",
       "</div>"
      ],
      "text/plain": [
       "                        Attrition\n",
       "Department                       \n",
       "Human Resources          0.190476\n",
       "Research & Development   0.138398\n",
       "Sales                    0.206278"
      ]
     },
     "execution_count": 78,
     "metadata": {},
     "output_type": "execute_result"
    }
   ],
   "source": [
    "df[['Attrition','Department']].groupby(['Department']).mean()"
   ]
  },
  {
   "cell_type": "code",
   "execution_count": 69,
   "metadata": {},
   "outputs": [
    {
     "data": {
      "text/plain": [
       "<AxesSubplot:xlabel='Department', ylabel='Attrition'>"
      ]
     },
     "execution_count": 69,
     "metadata": {},
     "output_type": "execute_result"
    },
    {
     "data": {
      "image/png": "[encoded data removed]",
      "text/plain": [
       "<Figure size 432x288 with 1 Axes>"
      ]
     },
     "metadata": {
      "needs_background": "light"
     },
     "output_type": "display_data"
    }
   ],
   "source": [
    "sns.barplot(x=df.Department,y=df.Attrition)"
   ]
  },
  {
   "cell_type": "code",
   "execution_count": 60,
   "metadata": {},
   "outputs": [
    {
     "data": {
      "text/plain": [
       "<AxesSubplot:xlabel='Department', ylabel='Attrition'>"
      ]
     },
     "execution_count": 60,
     "metadata": {},
     "output_type": "execute_result"
    },
    {
     "data": {
      "image/png": "[encoded data removed]",
      "text/plain": [
       "<Figure size 432x288 with 1 Axes>"
      ]
     },
     "metadata": {
      "needs_background": "light"
     },
     "output_type": "display_data"
    }
   ],
   "source": [
    "sns.barplot(x=df.Department,y=df.Attrition,hue=df.Gender)"
   ]
  },
  {
   "cell_type": "code",
   "execution_count": 79,
   "metadata": {},
   "outputs": [
    {
     "data": {
      "text/html": [
       "<div>\n",
       "<style scoped>\n",
       "    .dataframe tbody tr th:only-of-type {\n",
       "        vertical-align: middle;\n",
       "    }\n",
       "\n",
       "    .dataframe tbody tr th {\n",
       "        vertical-align: top;\n",
       "    }\n",
       "\n",
       "    .dataframe thead th {\n",
       "        text-align: right;\n",
       "    }\n",
       "</style>\n",
       "<table border=\"1\" class=\"dataframe\">\n",
       "  <thead>\n",
       "    <tr style=\"text-align: right;\">\n",
       "      <th></th>\n",
       "      <th></th>\n",
       "      <th>Attrition</th>\n",
       "    </tr>\n",
       "    <tr>\n",
       "      <th>Department</th>\n",
       "      <th>Gender</th>\n",
       "      <th></th>\n",
       "    </tr>\n",
       "  </thead>\n",
       "  <tbody>\n",
       "    <tr>\n",
       "      <th rowspan=\"2\" valign=\"top\">Human Resources</th>\n",
       "      <th>Female</th>\n",
       "      <td>0.300000</td>\n",
       "    </tr>\n",
       "    <tr>\n",
       "      <th>Male</th>\n",
       "      <td>0.139535</td>\n",
       "    </tr>\n",
       "    <tr>\n",
       "      <th rowspan=\"2\" valign=\"top\">Research &amp; Development</th>\n",
       "      <th>Female</th>\n",
       "      <td>0.113456</td>\n",
       "    </tr>\n",
       "    <tr>\n",
       "      <th>Male</th>\n",
       "      <td>0.154639</td>\n",
       "    </tr>\n",
       "    <tr>\n",
       "      <th rowspan=\"2\" valign=\"top\">Sales</th>\n",
       "      <th>Female</th>\n",
       "      <td>0.201058</td>\n",
       "    </tr>\n",
       "    <tr>\n",
       "      <th>Male</th>\n",
       "      <td>0.210117</td>\n",
       "    </tr>\n",
       "  </tbody>\n",
       "</table>\n",
       "</div>"
      ],
      "text/plain": [
       "                               Attrition\n",
       "Department             Gender           \n",
       "Human Resources        Female   0.300000\n",
       "                       Male     0.139535\n",
       "Research & Development Female   0.113456\n",
       "                       Male     0.154639\n",
       "Sales                  Female   0.201058\n",
       "                       Male     0.210117"
      ]
     },
     "execution_count": 79,
     "metadata": {},
     "output_type": "execute_result"
    }
   ],
   "source": [
    "df[['Attrition','Department','Gender']].groupby(['Department','Gender']).mean()"
   ]
  },
  {
   "cell_type": "code",
   "execution_count": 85,
   "metadata": {},
   "outputs": [
    {
     "data": {
      "text/html": [
       "<div>\n",
       "<style scoped>\n",
       "    .dataframe tbody tr th:only-of-type {\n",
       "        vertical-align: middle;\n",
       "    }\n",
       "\n",
       "    .dataframe tbody tr th {\n",
       "        vertical-align: top;\n",
       "    }\n",
       "\n",
       "    .dataframe thead th {\n",
       "        text-align: right;\n",
       "    }\n",
       "</style>\n",
       "<table border=\"1\" class=\"dataframe\">\n",
       "  <thead>\n",
       "    <tr style=\"text-align: right;\">\n",
       "      <th>Attrition</th>\n",
       "      <th>0</th>\n",
       "      <th>1</th>\n",
       "      <th>All</th>\n",
       "    </tr>\n",
       "    <tr>\n",
       "      <th>Job Satisfaction</th>\n",
       "      <th></th>\n",
       "      <th></th>\n",
       "      <th></th>\n",
       "    </tr>\n",
       "  </thead>\n",
       "  <tbody>\n",
       "    <tr>\n",
       "      <th>High</th>\n",
       "      <td>369</td>\n",
       "      <td>73</td>\n",
       "      <td>442</td>\n",
       "    </tr>\n",
       "    <tr>\n",
       "      <th>Low</th>\n",
       "      <td>223</td>\n",
       "      <td>66</td>\n",
       "      <td>289</td>\n",
       "    </tr>\n",
       "    <tr>\n",
       "      <th>Medium</th>\n",
       "      <td>234</td>\n",
       "      <td>46</td>\n",
       "      <td>280</td>\n",
       "    </tr>\n",
       "    <tr>\n",
       "      <th>Very High</th>\n",
       "      <td>407</td>\n",
       "      <td>52</td>\n",
       "      <td>459</td>\n",
       "    </tr>\n",
       "    <tr>\n",
       "      <th>All</th>\n",
       "      <td>1233</td>\n",
       "      <td>237</td>\n",
       "      <td>1470</td>\n",
       "    </tr>\n",
       "  </tbody>\n",
       "</table>\n",
       "</div>"
      ],
      "text/plain": [
       "Attrition            0    1   All\n",
       "Job Satisfaction                 \n",
       "High               369   73   442\n",
       "Low                223   66   289\n",
       "Medium             234   46   280\n",
       "Very High          407   52   459\n",
       "All               1233  237  1470"
      ]
     },
     "execution_count": 85,
     "metadata": {},
     "output_type": "execute_result"
    }
   ],
   "source": [
    "pd.crosstab(df['Job Satisfaction'],df.Attrition,margins=True)"
   ]
  },
  {
   "cell_type": "code",
   "execution_count": 82,
   "metadata": {},
   "outputs": [
    {
     "name": "stderr",
     "output_type": "stream",
     "text": [
      "c:\\python39\\lib\\site-packages\\seaborn\\_decorators.py:36: FutureWarning: Pass the following variable as a keyword arg: x. From version 0.12, the only valid positional argument will be `data`, and passing other arguments without an explicit keyword will result in an error or misinterpretation.\n",
      "  warnings.warn(\n"
     ]
    },
    {
     "data": {
      "text/plain": [
       "<AxesSubplot:xlabel='Job Satisfaction', ylabel='count'>"
      ]
     },
     "execution_count": 82,
     "metadata": {},
     "output_type": "execute_result"
    },
    {
     "data": {
      "image/png": "[encoded data removed]",
      "text/plain": [
       "<Figure size 432x288 with 1 Axes>"
      ]
     },
     "metadata": {
      "needs_background": "light"
     },
     "output_type": "display_data"
    }
   ],
   "source": [
    "sns.countplot(df['Job Satisfaction'],hue=df.Attrition)"
   ]
  },
  {
   "cell_type": "code",
   "execution_count": 86,
   "metadata": {},
   "outputs": [
    {
     "data": {
      "text/html": [
       "<div>\n",
       "<style scoped>\n",
       "    .dataframe tbody tr th:only-of-type {\n",
       "        vertical-align: middle;\n",
       "    }\n",
       "\n",
       "    .dataframe tbody tr th {\n",
       "        vertical-align: top;\n",
       "    }\n",
       "\n",
       "    .dataframe thead th {\n",
       "        text-align: right;\n",
       "    }\n",
       "</style>\n",
       "<table border=\"1\" class=\"dataframe\">\n",
       "  <thead>\n",
       "    <tr style=\"text-align: right;\">\n",
       "      <th></th>\n",
       "      <th>Attrition</th>\n",
       "    </tr>\n",
       "    <tr>\n",
       "      <th>Job Satisfaction</th>\n",
       "      <th></th>\n",
       "    </tr>\n",
       "  </thead>\n",
       "  <tbody>\n",
       "    <tr>\n",
       "      <th>High</th>\n",
       "      <td>0.165158</td>\n",
       "    </tr>\n",
       "    <tr>\n",
       "      <th>Low</th>\n",
       "      <td>0.228374</td>\n",
       "    </tr>\n",
       "    <tr>\n",
       "      <th>Medium</th>\n",
       "      <td>0.164286</td>\n",
       "    </tr>\n",
       "    <tr>\n",
       "      <th>Very High</th>\n",
       "      <td>0.113290</td>\n",
       "    </tr>\n",
       "  </tbody>\n",
       "</table>\n",
       "</div>"
      ],
      "text/plain": [
       "                  Attrition\n",
       "Job Satisfaction           \n",
       "High               0.165158\n",
       "Low                0.228374\n",
       "Medium             0.164286\n",
       "Very High          0.113290"
      ]
     },
     "execution_count": 86,
     "metadata": {},
     "output_type": "execute_result"
    }
   ],
   "source": [
    "df[['Job Satisfaction','Attrition']].groupby('Job Satisfaction').mean()"
   ]
  },
  {
   "cell_type": "code",
   "execution_count": 89,
   "metadata": {},
   "outputs": [
    {
     "data": {
      "text/plain": [
       "<AxesSubplot:xlabel='Job Satisfaction', ylabel='Attrition'>"
      ]
     },
     "execution_count": 89,
     "metadata": {},
     "output_type": "execute_result"
    },
    {
     "data": {
      "image/png": "[encoded data removed]",
      "text/plain": [
       "<Figure size 432x288 with 1 Axes>"
      ]
     },
     "metadata": {
      "needs_background": "light"
     },
     "output_type": "display_data"
    }
   ],
   "source": [
    "sns.barplot(x=df['Job Satisfaction'],y=df.Attrition,ci=None)"
   ]
  },
  {
   "cell_type": "code",
   "execution_count": 91,
   "metadata": {},
   "outputs": [
    {
     "data": {
      "text/plain": [
       "<AxesSubplot:xlabel='Job Satisfaction', ylabel='Attrition'>"
      ]
     },
     "execution_count": 91,
     "metadata": {},
     "output_type": "execute_result"
    },
    {
     "data": {
      "image/png": "[encoded data removed]",
      "text/plain": [
       "<Figure size 432x288 with 1 Axes>"
      ]
     },
     "metadata": {
      "needs_background": "light"
     },
     "output_type": "display_data"
    }
   ],
   "source": [
    "sns.barplot(x=df['Job Satisfaction'],y=df.Attrition,hue=df.Gender,ci=None)"
   ]
  },
  {
   "cell_type": "code",
   "execution_count": 93,
   "metadata": {},
   "outputs": [
    {
     "data": {
      "text/html": [
       "<div>\n",
       "<style scoped>\n",
       "    .dataframe tbody tr th:only-of-type {\n",
       "        vertical-align: middle;\n",
       "    }\n",
       "\n",
       "    .dataframe tbody tr th {\n",
       "        vertical-align: top;\n",
       "    }\n",
       "\n",
       "    .dataframe thead th {\n",
       "        text-align: right;\n",
       "    }\n",
       "</style>\n",
       "<table border=\"1\" class=\"dataframe\">\n",
       "  <thead>\n",
       "    <tr style=\"text-align: right;\">\n",
       "      <th></th>\n",
       "      <th></th>\n",
       "      <th>Attrition</th>\n",
       "    </tr>\n",
       "    <tr>\n",
       "      <th>Job Satisfaction</th>\n",
       "      <th>Gender</th>\n",
       "      <th></th>\n",
       "    </tr>\n",
       "  </thead>\n",
       "  <tbody>\n",
       "    <tr>\n",
       "      <th rowspan=\"2\" valign=\"top\">High</th>\n",
       "      <th>Female</th>\n",
       "      <td>0.143646</td>\n",
       "    </tr>\n",
       "    <tr>\n",
       "      <th>Male</th>\n",
       "      <td>0.180077</td>\n",
       "    </tr>\n",
       "    <tr>\n",
       "      <th rowspan=\"2\" valign=\"top\">Low</th>\n",
       "      <th>Female</th>\n",
       "      <td>0.176471</td>\n",
       "    </tr>\n",
       "    <tr>\n",
       "      <th>Male</th>\n",
       "      <td>0.264706</td>\n",
       "    </tr>\n",
       "    <tr>\n",
       "      <th rowspan=\"2\" valign=\"top\">Medium</th>\n",
       "      <th>Female</th>\n",
       "      <td>0.203390</td>\n",
       "    </tr>\n",
       "    <tr>\n",
       "      <th>Male</th>\n",
       "      <td>0.135802</td>\n",
       "    </tr>\n",
       "    <tr>\n",
       "      <th rowspan=\"2\" valign=\"top\">Very High</th>\n",
       "      <th>Female</th>\n",
       "      <td>0.094118</td>\n",
       "    </tr>\n",
       "    <tr>\n",
       "      <th>Male</th>\n",
       "      <td>0.124567</td>\n",
       "    </tr>\n",
       "  </tbody>\n",
       "</table>\n",
       "</div>"
      ],
      "text/plain": [
       "                         Attrition\n",
       "Job Satisfaction Gender           \n",
       "High             Female   0.143646\n",
       "                 Male     0.180077\n",
       "Low              Female   0.176471\n",
       "                 Male     0.264706\n",
       "Medium           Female   0.203390\n",
       "                 Male     0.135802\n",
       "Very High        Female   0.094118\n",
       "                 Male     0.124567"
      ]
     },
     "execution_count": 93,
     "metadata": {},
     "output_type": "execute_result"
    }
   ],
   "source": [
    "df[['Attrition','Job Satisfaction','Gender']].groupby(['Job Satisfaction','Gender']).mean()"
   ]
  },
  {
   "cell_type": "code",
   "execution_count": 92,
   "metadata": {},
   "outputs": [
    {
     "data": {
      "text/html": [
       "<div>\n",
       "<style scoped>\n",
       "    .dataframe tbody tr th:only-of-type {\n",
       "        vertical-align: middle;\n",
       "    }\n",
       "\n",
       "    .dataframe tbody tr th {\n",
       "        vertical-align: top;\n",
       "    }\n",
       "\n",
       "    .dataframe thead th {\n",
       "        text-align: right;\n",
       "    }\n",
       "</style>\n",
       "<table border=\"1\" class=\"dataframe\">\n",
       "  <thead>\n",
       "    <tr style=\"text-align: right;\">\n",
       "      <th>Gender</th>\n",
       "      <th>Female</th>\n",
       "      <th>Male</th>\n",
       "      <th>All</th>\n",
       "    </tr>\n",
       "    <tr>\n",
       "      <th>Job Satisfaction</th>\n",
       "      <th></th>\n",
       "      <th></th>\n",
       "      <th></th>\n",
       "    </tr>\n",
       "  </thead>\n",
       "  <tbody>\n",
       "    <tr>\n",
       "      <th>High</th>\n",
       "      <td>181</td>\n",
       "      <td>261</td>\n",
       "      <td>442</td>\n",
       "    </tr>\n",
       "    <tr>\n",
       "      <th>Low</th>\n",
       "      <td>119</td>\n",
       "      <td>170</td>\n",
       "      <td>289</td>\n",
       "    </tr>\n",
       "    <tr>\n",
       "      <th>Medium</th>\n",
       "      <td>118</td>\n",
       "      <td>162</td>\n",
       "      <td>280</td>\n",
       "    </tr>\n",
       "    <tr>\n",
       "      <th>Very High</th>\n",
       "      <td>170</td>\n",
       "      <td>289</td>\n",
       "      <td>459</td>\n",
       "    </tr>\n",
       "    <tr>\n",
       "      <th>All</th>\n",
       "      <td>588</td>\n",
       "      <td>882</td>\n",
       "      <td>1470</td>\n",
       "    </tr>\n",
       "  </tbody>\n",
       "</table>\n",
       "</div>"
      ],
      "text/plain": [
       "Gender            Female  Male   All\n",
       "Job Satisfaction                    \n",
       "High                 181   261   442\n",
       "Low                  119   170   289\n",
       "Medium               118   162   280\n",
       "Very High            170   289   459\n",
       "All                  588   882  1470"
      ]
     },
     "execution_count": 92,
     "metadata": {},
     "output_type": "execute_result"
    }
   ],
   "source": [
    "pd.crosstab(df['Job Satisfaction'],df.Gender,margins=True)"
   ]
  }
 ],
 "metadata": {
  "kernelspec": {
   "display_name": "Python 3.9.1 64-bit",
   "language": "python",
   "name": "python3"
  },
  "language_info": {
   "codemirror_mode": {
    "name": "ipython",
    "version": 3
   },
   "file_extension": ".py",
   "mimetype": "text/x-python",
   "name": "python",
   "nbconvert_exporter": "python",
   "pygments_lexer": "ipython3",
   "version": "3.9.1"
  },
  "orig_nbformat": 4,
  "vscode": {
   "interpreter": {
    "hash": "996f2b6e98019c29df53ccff772a8e3fe7cdecb0ba4b3f6ddb9be804d297dd3d"
   }
  }
 },
 "nbformat": 4,
 "nbformat_minor": 2
}
